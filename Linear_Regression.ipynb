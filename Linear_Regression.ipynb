{
 "cells": [
  {
   "cell_type": "markdown",
   "metadata": {},
   "source": [
    "## Imports"
   ]
  },
  {
   "cell_type": "code",
   "execution_count": 1,
   "metadata": {},
   "outputs": [],
   "source": [
    "import numpy as np #math stuff\n",
    "import matplotlib.pyplot as plt #visualizing stuff"
   ]
  },
  {
   "cell_type": "markdown",
   "metadata": {},
   "source": [
    "## Generating Data-set"
   ]
  },
  {
   "cell_type": "code",
   "execution_count": 50,
   "metadata": {},
   "outputs": [],
   "source": [
    "x = np.random.randn(100)\n",
    "y = (x * 1.25) + 1.5 + np.random.randn(100) # coeffitients theta_0 = 1.5 and theta_1 = 1.25, added random noise to each data point"
   ]
  },
  {
   "cell_type": "code",
   "execution_count": 84,
   "metadata": {},
   "outputs": [
    {
     "data": {
      "image/png": "[encoded data removed]",
      "text/plain": [
       "<Figure size 432x288 with 1 Axes>"
      ]
     },
     "metadata": {
      "needs_background": "light"
     },
     "output_type": "display_data"
    }
   ],
   "source": [
    "plt.scatter(x, y)\n",
    "plt.title('Dataset');"
   ]
  },
  {
   "cell_type": "code",
   "execution_count": 65,
   "metadata": {},
   "outputs": [
    {
     "name": "stdout",
     "output_type": "stream",
     "text": [
      "The linear correlation coefficient is 0.75\n"
     ]
    }
   ],
   "source": [
    "coef = np.corrcoef(x,y)[0][1]\n",
    "print('The linear correlation coefficient is %.2f'%coef)"
   ]
  },
  {
   "cell_type": "code",
   "execution_count": 75,
   "metadata": {},
   "outputs": [],
   "source": [
    "x_line = np.linspace(-3,3)\n",
    "line = x_line*1.25+1.5"
   ]
  },
  {
   "cell_type": "code",
   "execution_count": 81,
   "metadata": {},
   "outputs": [
    {
     "data": {
      "image/png": "[encoded data removed]",
      "text/plain": [
       "<Figure size 432x288 with 1 Axes>"
      ]
     },
     "metadata": {
      "needs_background": "light"
     },
     "output_type": "display_data"
    }
   ],
   "source": [
    "plt.scatter(x, y)\n",
    "plt.plot(x_line, line, c = 'r')\n",
    "plt.legend(['true data', 'best line'])\n",
    "plt.title('Best fitting line');"
   ]
  },
  {
   "cell_type": "markdown",
   "metadata": {},
   "source": [
    "## Math background"
   ]
  },
  {
   "cell_type": "markdown",
   "metadata": {},
   "source": [
    "**To calculate the distance between all the points and the line we can use the well know sum of squared residuals**\n",
    "\n",
    "\n",
    "_This is the euclidean distance between all points and the points in the line, we square it to account for negative distances as well as penalizing large errors_\n",
    "\n",
    "$$ SSR = \\sum_{i=1}^{n} (y_i - \\hat{y}_i)^2 $$\n",
    "\n",
    "Where:\n",
    "- $n$ is the number of observations,\n",
    "- $y_i$ is the observed value for the ith observation,\n",
    "- $\\hat{y}_i$ is the predicted value for the ith observation."
   ]
  },
  {
   "cell_type": "markdown",
   "metadata": {},
   "source": [
    "**<p style=\"text-align: center;\">Knowing that</p>**\n",
    "\n",
    "$$ \\hat{y_i} = x_i*\\theta_1 + \\theta_0 $$\n",
    "\n",
    "_<p style=\"text-align: center;\">Then</p>_\n",
    "\n",
    "$$SSR = \\sum_{i=1}^{n} (y_i - (x_i*\\theta_1 + \\theta_0))^2 $$\n",
    "\n",
    "Where\n",
    "- $\\theta_0 $ is the intercept\n",
    "- $\\theta_1 $ is the angular coefficient\n",
    "- x is the imput data"
   ]
  },
  {
   "cell_type": "markdown",
   "metadata": {},
   "source": [
    "**Mainly we want to find the vector $\\theta$ such that**\n",
    "\n",
    "$$\\theta = \\argmin(SSR = \\sum_{i=1}^{n} (y_i - (x_i*\\theta_1 + \\theta_0))^2) $$"
   ]
  },
  {
   "cell_type": "markdown",
   "metadata": {},
   "source": [
    "### There is a cool way to approximate this function to the lowest point.\n",
    "We can use a neat function in calculus called gradient $(\\nabla{f})$, the gradient is a vector that points in the direction of the steepest ascent of $f$, the magnitude of the gradient shows the rate of increase of the function at that point."
   ]
  },
  {
   "cell_type": "markdown",
   "metadata": {},
   "source": [
    "**Given:**\n",
    "\n",
    "$\n",
    "\\nabla f(\\left.(y_i - (x_i*\\theta_1 + \\theta_0))^2\\right)=\\left[\\begin{array}{c}\n",
    "\\dfrac{\\partial f}{\\partial \\theta_1}\\\\\\\\\n",
    "\\dfrac{\\partial f}{\\partial \\theta_0}\\\\\n",
    "\\end{array}\\right]\\\\\n",
    "$\n",
    "**Then:**\n",
    "\n",
    "$\n",
    "\\nabla f((\\left.y_i - (x_i*\\theta_1 + \\theta_0))^2\\right)=\\left[\\begin{array}{c}\n",
    "(\\left.2*(y_i - (x_i*\\theta_1 + \\theta_0))*x_i\\right)\\\\\\\\\n",
    "(\\left.2*(y_i - (x_i*\\theta_1 + \\theta_0))\\right) \\\\\n",
    "\\end{array}\\right]\n",
    "$"
   ]
  },
  {
   "cell_type": "markdown",
   "metadata": {},
   "source": [
    "Now that we know what the gradient vector is we can set a function to approximate the lowest point of the loss function. To be able to do that we can set the next value of the vector $\\theta$ to be the value of the last iteration minus the value of the vector $\\nabla{f}$.\n",
    "\n",
    "$\\theta = \\theta - \\nabla{f}$\n",
    "\n",
    "This is almost perfect, now we only have to take care of a simple last concept, the *learning rate*, most times updating the values of $\\theta$ by using the whole values for the gradients make us overshoot the minimum point, to fix this we scale the value of the gradient $(\\nabla{f})$ by a hyper-parameter $\\alpha$ usually between $10^{-1}$ and $10^{-5}$, this way we can control the step-size of our optimization algorithm, making sure we don't overshoot.\n",
    "\n",
    "$\\theta = \\theta - \\alpha*\\nabla{f}$"
   ]
  },
  {
   "cell_type": "markdown",
   "metadata": {},
   "source": [
    "## Code"
   ]
  },
  {
   "cell_type": "markdown",
   "metadata": {},
   "source": [
    "### Now that we have everything we can start writing code"
   ]
  },
  {
   "cell_type": "markdown",
   "metadata": {},
   "source": []
  }
 ],
 "metadata": {
  "kernelspec": {
   "display_name": "teste",
   "language": "python",
   "name": "python3"
  },
  "language_info": {
   "codemirror_mode": {
    "name": "ipython",
    "version": 3
   },
   "file_extension": ".py",
   "mimetype": "text/x-python",
   "name": "python",
   "nbconvert_exporter": "python",
   "pygments_lexer": "ipython3",
   "version": "3.9.7"
  }
 },
 "nbformat": 4,
 "nbformat_minor": 2
}
